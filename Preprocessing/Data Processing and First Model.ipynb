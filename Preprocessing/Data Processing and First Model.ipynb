{
 "cells": [
  {
   "cell_type": "code",
   "execution_count": null,
   "id": "bfa6d044",
   "metadata": {},
   "outputs": [],
   "source": [
    "import numpy as np\n",
    "import pandas as pd"
   ]
  },
  {
   "cell_type": "code",
   "execution_count": null,
   "id": "02bf0cf7",
   "metadata": {},
   "outputs": [],
   "source": [
    "## Data Preprocess + First Model ##"
   ]
  },
  {
   "cell_type": "code",
   "execution_count": null,
   "id": "90c66020",
   "metadata": {},
   "outputs": [],
   "source": [
    "import json\n",
    "with open('../data/preprocessed.json', 'r') as file:\n",
    "    data = json.load(file)"
   ]
  },
  {
   "cell_type": "code",
   "execution_count": null,
   "id": "0d3fdadc",
   "metadata": {},
   "outputs": [],
   "source": [
    "data = pd.DataFrame(data)\n",
    "data"
   ]
  },
  {
   "cell_type": "code",
   "execution_count": null,
   "id": "6768756c",
   "metadata": {},
   "outputs": [],
   "source": [
    "data['date'] = pd.to_datetime(data['date'], unit='ms')\n",
    "data"
   ]
  },
  {
   "cell_type": "code",
   "execution_count": null,
   "id": "a541c9dd",
   "metadata": {},
   "outputs": [],
   "source": [
    "# Combine first_name and last_name\n",
    "data['player_name'] = data['first_name'] + ' ' + data['last_name']\n",
    "# Remove first_name, last_name, turnover, pf, and player_id columns\n",
    "data = data.drop(columns=['player_id','first_name','last_name','turnover','pf'])\n",
    "# Move player_name to front\n",
    "data = data[['player_name'] + data.columns.drop('player_name').tolist()]\n",
    "data"
   ]
  },
  {
   "cell_type": "code",
   "execution_count": null,
   "id": "42cb9556",
   "metadata": {},
   "outputs": [],
   "source": [
    "# Check for missing values\n",
    "data.isna().sum() # None, Yay!"
   ]
  },
  {
   "cell_type": "code",
   "execution_count": null,
   "id": "9d2662e2",
   "metadata": {},
   "outputs": [],
   "source": [
    "projections = pd.read_json('../data/prizepicks_cleaned.json')\n",
    "projections = projections[~projections['name'].str.contains(r'\\+')]\n",
    "projections.head()"
   ]
  },
  {
   "cell_type": "code",
   "execution_count": null,
   "id": "7c250ccf",
   "metadata": {},
   "outputs": [],
   "source": [
    "point_projection = projections[projections['stat_type'] == 'Points']\n",
    "point_projection = point_projection[['name', 'line_score']].reset_index(drop=True)\n",
    "point_projection.head()"
   ]
  },
  {
   "cell_type": "code",
   "execution_count": null,
   "id": "537a4aea",
   "metadata": {},
   "outputs": [],
   "source": [
    "data_and_proj = data.merge(point_projection, left_on='player_name', right_on='name', how='inner')\n",
    "data_and_proj.head()"
   ]
  },
  {
   "cell_type": "code",
   "execution_count": null,
   "id": "6d3080d9",
   "metadata": {},
   "outputs": [],
   "source": [
    "data_and_proj[data_and_proj['player_name'] == 'Michael Porter Jr.']"
   ]
  },
  {
   "cell_type": "code",
   "execution_count": null,
   "id": "44aa3489",
   "metadata": {},
   "outputs": [],
   "source": [
    "data_and_proj = data_and_proj.sort_values(by=['player_name', 'date'])\n",
    "data_and_proj"
   ]
  },
  {
   "cell_type": "code",
   "execution_count": null,
   "id": "e4eaaffc",
   "metadata": {},
   "outputs": [],
   "source": [
    "data_and_proj['above_threshold'] = (data_and_proj['pts'] > data_and_proj['line_score']).astype(int)\n",
    "data_and_proj"
   ]
  },
  {
   "cell_type": "code",
   "execution_count": null,
   "id": "926391fd",
   "metadata": {},
   "outputs": [],
   "source": [
    "features = [\"fgm\", \"fga\", \"reb\", \"ast\", \"stl\", \"blk\", \"fg3m\", \"fg3a\", \"fta\", \"oreb\", \"dreb\"]\n",
    "X = data_and_proj[features]\n",
    "y = data_and_proj[\"above_threshold\"]"
   ]
  },
  {
   "cell_type": "code",
   "execution_count": null,
   "id": "5b105361",
   "metadata": {},
   "outputs": [],
   "source": [
    "def create_sequences_with_names(data, target, sequence_length):\n",
    "    sequences = []\n",
    "    labels = []\n",
    "    player_names = [] \n",
    "    \n",
    "    for player, group in data.groupby(\"player_name\"):\n",
    "        group_features = group[features].values \n",
    "        group_labels = group[target].values\n",
    "        \n",
    "        for i in range(len(group) - sequence_length):\n",
    "            sequences.append(group_features[i:i + sequence_length]) \n",
    "            labels.append(group_labels[i + sequence_length])        \n",
    "            player_names.append(player)                             \n",
    "    \n",
    "    return np.array(sequences), np.array(labels), player_names\n",
    "\n",
    "sequence_length = 5\n",
    "X_seq, y_seq, player_names = create_sequences_with_names(data_and_proj, \"above_threshold\", sequence_length)\n",
    "\n",
    "print(f\"Number of sequences: {len(X_seq)}\")\n",
    "print(f\"First sequence shape: {X_seq[0].shape}\")\n",
    "print(f\"First player name: {player_names[0]}\")"
   ]
  },
  {
   "cell_type": "code",
   "execution_count": null,
   "id": "3af477fa",
   "metadata": {},
   "outputs": [],
   "source": [
    "X_seq[:10]"
   ]
  },
  {
   "cell_type": "code",
   "execution_count": null,
   "id": "2c97d965",
   "metadata": {},
   "outputs": [],
   "source": [
    "# Get unique player names\n",
    "unique_players = np.unique(player_names)\n",
    "\n",
    "# Split indices for training and testing\n",
    "train_indices = []\n",
    "test_indices = []\n",
    "\n",
    "for player in unique_players:\n",
    "    # Get indices for this player\n",
    "    player_indices = np.where(np.array(player_names) == player)[0]\n",
    "    split_point = int(len(player_indices) * 0.8)  # 80% for training\n",
    "    train_indices.extend(player_indices[:split_point])\n",
    "    test_indices.extend(player_indices[split_point:])\n",
    "\n",
    "# Subset data for training and testing\n",
    "X_train, X_test = X_seq[train_indices], X_seq[test_indices]\n",
    "y_train, y_test = y_seq[train_indices], y_seq[test_indices]\n",
    "train_names = [player_names[i] for i in train_indices]\n",
    "test_names = [player_names[i] for i in test_indices]\n",
    "\n",
    "# Convert to PyTorch tensors\n",
    "X_train_tensor = torch.tensor(X_train, dtype=torch.float32)\n",
    "X_test_tensor = torch.tensor(X_test, dtype=torch.float32)\n",
    "y_train_tensor = torch.tensor(y_train, dtype=torch.float32)\n",
    "y_test_tensor = torch.tensor(y_test, dtype=torch.float32)\n"
   ]
  },
  {
   "cell_type": "code",
   "execution_count": null,
   "id": "90170374",
   "metadata": {},
   "outputs": [],
   "source": [
    "%cd ../prediction_model\n",
    "from lstm import LSTM\n",
    "%cd -\n",
    "\n",
    "input_size = X_train_tensor.shape[2]\n",
    "hidden_size = 64\n",
    "output_size = 1\n",
    "\n",
    "model = LSTM(input_size=input_size, hidden_size=hidden_size, output_size=output_size)"
   ]
  },
  {
   "cell_type": "code",
   "execution_count": null,
   "id": "27c6369b",
   "metadata": {},
   "outputs": [],
   "source": [
    "import torch.optim as optim\n",
    "import torch.nn as nn\n",
    "\n",
    "criterion = nn.BCELoss()\n",
    "optimizer = optim.Adam(model.parameters(), lr=0.001)"
   ]
  },
  {
   "cell_type": "code",
   "execution_count": null,
   "id": "896d9dcb",
   "metadata": {},
   "outputs": [],
   "source": [
    "import torch\n",
    "\n",
    "num_epochs = 10\n",
    "batch_size = 32 \n",
    "\n",
    "for epoch in range(num_epochs):\n",
    "    model.train()\n",
    "    epoch_loss = 0.0\n",
    "\n",
    "    permutation = torch.randperm(X_train_tensor.size(0))\n",
    "    for i in range(0, X_train_tensor.size(0), batch_size):\n",
    "        indices = permutation[i:i + batch_size]\n",
    "        batch_X, batch_y = X_train_tensor[indices], y_train_tensor[indices]\n",
    "\n",
    "        optimizer.zero_grad()\n",
    "\n",
    "        predictions = model(batch_X).squeeze()\n",
    "        loss = criterion(predictions, batch_y)\n",
    "\n",
    "        loss.backward()\n",
    "        optimizer.step()\n",
    "\n",
    "        epoch_loss += loss.item()\n",
    "\n",
    "    print(f\"Epoch {epoch + 1}/{num_epochs}, Loss: {epoch_loss:.4f}\")\n"
   ]
  },
  {
   "cell_type": "code",
   "execution_count": null,
   "id": "b33d463b",
   "metadata": {},
   "outputs": [],
   "source": [
    "# Evaluation\n",
    "model.eval()  # Set the model to evaluation mode\n",
    "with torch.no_grad():\n",
    "    predictions = model(X_test_tensor).squeeze()\n",
    "    predictions = (predictions >= 0.5).float()  # Apply threshold for binary classification\n",
    "\n",
    "    # Calculate accuracy\n",
    "    accuracy = (predictions == y_test_tensor).float().mean()\n",
    "    print(f\"Test Accuracy: {accuracy * 100:.2f}%\")\n"
   ]
  },
  {
   "cell_type": "code",
   "execution_count": null,
   "id": "6ce7e410",
   "metadata": {},
   "outputs": [],
   "source": [
    "# Scale to normalize features\n",
    "from sklearn.preprocessing import MinMaxScaler\n",
    "scaler = MinMaxScaler()\n",
    "numerical_cols = ['fgm', 'fga', 'oreb', 'dreb', 'ast', 'stl', 'blk', 'turnover', 'pf', 'pts']\n",
    "data[numerical_cols] = scaler.fit_transform(df[numerical_cols])"
   ]
  },
  {
   "cell_type": "code",
   "execution_count": null,
   "id": "96092fce",
   "metadata": {},
   "outputs": [],
   "source": [
    "# Computing the last 5 averages for each player\n",
    "average_estimates = ['fgm', 'fga', 'fg3m', 'fg3a', 'ftm', 'fta', 'oreb', 'dreb', 'reb', 'ast', 'stl', 'blk', 'turnover', 'pf', 'pts']\n",
    "for col in average_estimates:\n",
    "    data[f'{col}_avg_last_5'] = data.groupby('player_name')[col].transform(lambda x: x.rolling(window=5, min_periods=1).mean())"
   ]
  },
  {
   "cell_type": "code",
   "execution_count": null,
   "id": "7262256b",
   "metadata": {},
   "outputs": [],
   "source": [
    "# Creating feature \"on_hotstreak\" to indicate if player is performing higher when compared to their average i\n",
    "player_avg_pts = data.groupby('player_name')['pts'].transform('mean')\n",
    "player_avg_asts = data.groupby('player_name')['ast'].transform('mean')\n",
    "player_avg_reb = data.groupby('player_name')['reb'].transform('mean')\n",
    "\n",
    "# Then, compare the last 5-game average to the player's overall average and convert boolean to integers \n",
    "# where (1 if on hotstreak, 0 if not)\n",
    "data['on_hotstreak_pts'] = (data['pts_avg_last_5'] > player_avg_pts).astype(int)\n",
    "data['on_hotstreak_asts'] = (data['ast_avg_last_5'] > player_avg_asts).astype(int)\n",
    "data['on_hotstreak_reb'] = (data['reb_avg_last_5'] > player_avg_reb).astype(int)\n",
    "data"
   ]
  },
  {
   "cell_type": "code",
   "execution_count": null,
   "id": "af16cf52",
   "metadata": {},
   "outputs": [],
   "source": [
    "def predictor(player_name, type_of_prediction, baseline):\n",
    "    player_data = data[data['player_name'] == player_name]\n",
    "    \n",
    "    relevant_features = {\n",
    "        \"points\": [\"fg3_pct\", \"fg_pct\",'ft_pct', \"pts_avg_last_5\", \"on_hotstreak_pts\"],\n",
    "        \"rebounds\": [\"oreb\", \"dreb\", \"reb_avg_last_5\", \"on_hotstreak_reb\"],\n",
    "        \"assists\": [\"ast\", \"ast_avg_last_5\", \"on_hotstreak_asts\"]\n",
    "    }\n",
    "    \n",
    "    if type_of_prediction == 'points':\n",
    "        \n",
    "    elif type_of_prediction == 'rebounds':\n",
    "        \n",
    "    elif type_of_prediction == 'assists':\n",
    "        \n",
    "    elif type_of_prediction == 'pra':\n",
    "        \n"
   ]
  },
  {
   "cell_type": "code",
   "execution_count": null,
   "id": "b13226f1",
   "metadata": {},
   "outputs": [],
   "source": []
  },
  {
   "cell_type": "code",
   "execution_count": null,
   "id": "a733c358",
   "metadata": {},
   "outputs": [],
   "source": []
  }
 ],
 "metadata": {
  "kernelspec": {
   "display_name": "prize-harvest",
   "language": "python",
   "name": "python3"
  },
  "language_info": {
   "codemirror_mode": {
    "name": "ipython",
    "version": 3
   },
   "file_extension": ".py",
   "mimetype": "text/x-python",
   "name": "python",
   "nbconvert_exporter": "python",
   "pygments_lexer": "ipython3",
   "version": "3.13.0"
  }
 },
 "nbformat": 4,
 "nbformat_minor": 5
}
