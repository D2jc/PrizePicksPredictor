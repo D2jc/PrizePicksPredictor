{
 "cells": [
  {
   "cell_type": "code",
   "execution_count": null,
   "metadata": {},
   "outputs": [],
   "source": [
    "import json\n",
    "import psycopg2\n",
    "from psycopg2.extras import RealDictCursor\n",
    "import os\n",
    "from dotenv import load_dotenv\n",
    "import pandas as pd\n",
    "import numpy as np\n",
    "\n",
    "load_dotenv()"
   ]
  },
  {
   "cell_type": "code",
   "execution_count": null,
   "metadata": {},
   "outputs": [],
   "source": [
    "# Fetch the values from environment variables\n",
    "api_key = os.getenv(\"API_KEY\")\n",
    "db_user = os.getenv(\"DB_USER\")\n",
    "db_pass = os.getenv(\"DB_PASS\")\n",
    "db_host = os.getenv(\"DB_HOST\")\n",
    "db_port = os.getenv(\"DB_PORT\")\n",
    "\n",
    "conn = psycopg2.connect(\n",
    "    dbname=\"box_scores\",\n",
    "    user=db_user,\n",
    "    password=db_pass,\n",
    "    host=db_host,\n",
    "    port=db_port\n",
    ")"
   ]
  },
  {
   "cell_type": "code",
   "execution_count": null,
   "metadata": {},
   "outputs": [],
   "source": [
    "query = \"\"\"\n",
    "WITH current_games AS (\n",
    "    SELECT array_agg(game_id) AS game_ids\n",
    "    FROM game\n",
    "    WHERE game.date < CURRENT_DATE\n",
    ")\n",
    "SELECT pg.player_id, g.date, p.first_name, p.last_name, pg.fgm, pg.fga, pg.fg_pct, pg.fg3m, pg.fg3a, pg.fg3_pct, pg.ftm, pg.fta, pg.ft_pct, pg.oreb, pg.dreb, pg.reb, pg.ast, pg.stl, pg.blk, pg.turnover, pg.pf, pg.pts\n",
    "FROM player_game pg\n",
    "INNER JOIN player p ON pg.player_id=p.player_id\n",
    "INNER JOIN game g ON pg.game_id=g.game_id\n",
    "WHERE pg.game_id = ANY (SELECT unnest(game_ids) FROM current_games);\n",
    "\"\"\""
   ]
  },
  {
   "cell_type": "code",
   "execution_count": null,
   "metadata": {},
   "outputs": [],
   "source": [
    "df = pd.read_sql_query(query, conn)\n",
    "conn.close()\n",
    "df.to_json('../data/preprocessed.json')"
   ]
  },
  {
   "cell_type": "code",
   "execution_count": null,
   "metadata": {},
   "outputs": [],
   "source": [
    "df.head()"
   ]
  },
  {
   "cell_type": "code",
   "execution_count": null,
   "metadata": {},
   "outputs": [],
   "source": [
    "with open('../data/prizepicks.json') as f:\n",
    "    data=json.load(f)\n",
    "\n",
    "projections = data['data']\n",
    "records = []\n",
    "for projection in projections:\n",
    "    attributes = projection.get('attributes', {})\n",
    "    relationships = projection.get('relationships', {})\n",
    "    new_player_data = relationships.get('new_player', {}).get('data', {})\n",
    "    player_id = new_player_data.get('id', None)\n",
    "\n",
    "    # Extract `display_name` from `new_player` attributes (if available)\n",
    "    display_name = None\n",
    "    if new_player_data and 'attributes' in new_player_data:\n",
    "        display_name = new_player_data['attributes'].get('display_name', \"Unknown\")\n",
    "\n",
    "    # Record data\n",
    "    record = {\n",
    "        'id': projection.get('id'),\n",
    "        'type': projection.get('type'),\n",
    "        'description': attributes.get('description'),\n",
    "        'line_score': attributes.get('line_score'),\n",
    "        'stat_type': attributes.get('stat_type'),\n",
    "        'start_time': attributes.get('start_time'),\n",
    "        'status': attributes.get('status'),\n",
    "        'game_id': attributes.get('game_id'),\n",
    "        'player_id': player_id,\n",
    "    }\n",
    "    records.append(record)\n",
    "\n",
    "df = pd.DataFrame(records)\n",
    "df.head()"
   ]
  },
  {
   "cell_type": "code",
   "execution_count": null,
   "metadata": {},
   "outputs": [],
   "source": [
    "player_data = []\n",
    "for row in data['included']:\n",
    "    if row['type'] == 'new_player': \n",
    "        player_id = row['id']\n",
    "        attributes = row.get('attributes', {})\n",
    "        display_name = attributes.get('display_name', 'Unknown')\n",
    "        player_data.append({'id': player_id, 'name': display_name})\n",
    "\n",
    "player_data_df = pd.DataFrame(player_data)\n",
    "player_data_df.head()"
   ]
  },
  {
   "cell_type": "code",
   "execution_count": null,
   "metadata": {},
   "outputs": [],
   "source": [
    "df_cleaned = df.merge(player_data_df, left_on='player_id', right_on='id', how='left').drop(columns=['id_x', 'game_id', 'player_id', 'id_y'])\n",
    "df_cleaned.head()"
   ]
  },
  {
   "cell_type": "code",
   "execution_count": null,
   "metadata": {},
   "outputs": [],
   "source": [
    "df_cleaned.to_json('../data/prizepicks_cleaned.json')"
   ]
  }
 ],
 "metadata": {
  "kernelspec": {
   "display_name": "prize-harvest",
   "language": "python",
   "name": "python3"
  },
  "language_info": {
   "codemirror_mode": {
    "name": "ipython",
    "version": 3
   },
   "file_extension": ".py",
   "mimetype": "text/x-python",
   "name": "python",
   "nbconvert_exporter": "python",
   "pygments_lexer": "ipython3",
   "version": "3.13.0"
  }
 },
 "nbformat": 4,
 "nbformat_minor": 2
}
